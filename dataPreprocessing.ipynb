{
 "cells": [
  {
   "cell_type": "markdown",
   "id": "9d07ba87",
   "metadata": {},
   "source": [
    "# Data Preprocessing and Understanding"
   ]
  },
  {
   "cell_type": "markdown",
   "id": "ca9b5e6d",
   "metadata": {},
   "source": [
    "## Set Workspace"
   ]
  },
  {
   "cell_type": "code",
   "execution_count": null,
   "id": "e2849371",
   "metadata": {},
   "outputs": [],
   "source": [
    "import numpy as np\n",
    "import pandas as pd"
   ]
  },
  {
   "cell_type": "code",
   "execution_count": null,
   "id": "5370f24f",
   "metadata": {},
   "outputs": [],
   "source": [
    "pd.options.display.max_colwidth=None\n",
    "pd.options.display.max_rows=None"
   ]
  },
  {
   "cell_type": "markdown",
   "id": "6870e993",
   "metadata": {},
   "source": [
    "## Preprocessing Data"
   ]
  },
  {
   "cell_type": "code",
   "execution_count": null,
   "id": "868610f9",
   "metadata": {},
   "outputs": [],
   "source": [
    "# The following codes are used in the dataset\n",
    "codes = ['[PDF][PDF]', '[BOOK][B]', '[HTML][HTML]', '[DOC][DOC]', '[CITATION][C]']\n",
    "\n",
    "# Create a replacement dictionary\n",
    "replace_dict = {'[PDF][PDF]':'PDF', '[BOOK][B]':'BOOK', \n",
    "                '[HTML][HTML]':'HTML', '[DOC][DOC]':'DOC', \n",
    "                '[CITATION][C]': 'CITE', 'ART':'ART'}"
   ]
  },
  {
   "cell_type": "code",
   "execution_count": null,
   "id": "ccf2d158",
   "metadata": {},
   "outputs": [],
   "source": [
    "# Data on horse colic\n",
    "horse_df = pd.read_csv('data/horse_colic.csv')\n",
    "horse_df.head(2)"
   ]
  },
  {
   "cell_type": "code",
   "execution_count": null,
   "id": "9bc8a3dd",
   "metadata": {},
   "outputs": [],
   "source": [
    "# Get the data shape\n",
    "horse_df.shape"
   ]
  },
  {
   "cell_type": "code",
   "execution_count": null,
   "id": "9bf8f9e3",
   "metadata": {},
   "outputs": [],
   "source": [
    "# Find how many missing values\n",
    "horse_df.isna().sum()"
   ]
  },
  {
   "cell_type": "code",
   "execution_count": null,
   "id": "c958caa8",
   "metadata": {},
   "outputs": [],
   "source": [
    "# Fill in the missing values with empty string\n",
    "horse_df = horse_df.fillna('')\n",
    "\n",
    "# Check for success\n",
    "horse_df.isna().sum()"
   ]
  },
  {
   "cell_type": "code",
   "execution_count": null,
   "id": "c413f854",
   "metadata": {},
   "outputs": [],
   "source": [
    "# Create a new column to hold the labels\n",
    "horse_df['Label'] = 'ART'\n",
    "\n",
    "# Populate the Label column with the codes extracted from Title column\n",
    "# This does not seem to work, it assigns other labels than the expected ones at times!\n",
    "for c in codes:\n",
    "    horse_df['Label'] = np.where(horse_df['Title'].str.contains(c), c, horse_df['Label'] )\n",
    "\n",
    "# Check the output\n",
    "horse_df.head(10)"
   ]
  },
  {
   "cell_type": "code",
   "execution_count": null,
   "id": "b0a12eb5",
   "metadata": {},
   "outputs": [],
   "source": [
    "# Replace the labels with shorter expressions\n",
    "horse_df['Label'] = horse_df['Label'].replace(replace_dict)\n",
    "horse_df.head(2)"
   ]
  },
  {
   "cell_type": "code",
   "execution_count": null,
   "id": "e9574a7c",
   "metadata": {},
   "outputs": [],
   "source": [
    "# Delete the labels from Title column\n",
    "for c in codes:\n",
    "    horse_df.Title = horse_df.Title.str.replace(c,'', regex=False)\n",
    "horse_df.head(2)"
   ]
  },
  {
   "cell_type": "code",
   "execution_count": null,
   "id": "8ca35202",
   "metadata": {},
   "outputs": [],
   "source": [
    "# Group items by type - there are no items books??\n",
    "horse_df.groupby('Label').size()"
   ]
  },
  {
   "cell_type": "code",
   "execution_count": null,
   "id": "85572c35",
   "metadata": {},
   "outputs": [],
   "source": [
    "# Combine Title and TruncAbstract and replace the AugmTitle column\n",
    "horse_df['AugmTitle'] = horse_df['Title'] + horse_df['TruncAbstr']\n",
    "horse_df.head(2)"
   ]
  },
  {
   "cell_type": "code",
   "execution_count": null,
   "id": "ff92f1f8",
   "metadata": {},
   "outputs": [],
   "source": [
    "# Remove the line delimitators in the AugmTitle column\n",
    "horse_df.AugmTitle = horse_df.AugmTitle.str.replace('\\n','', regex=False)\n",
    "horse_df.head(2)"
   ]
  },
  {
   "cell_type": "markdown",
   "id": "23e3a58e",
   "metadata": {},
   "source": [
    "## Prepare Titles Data"
   ]
  },
  {
   "cell_type": "code",
   "execution_count": null,
   "id": "c3651fc0",
   "metadata": {},
   "outputs": [],
   "source": [
    "# Prepare the text column\n",
    "df_titles = horse_df[['Title']]\n",
    "\n",
    "# Rename the title column\n",
    "df_titles = df_titles.rename(columns = {'Title': 'text'})\n",
    "\n",
    "# Check the outcome\n",
    "df_titles.head(2)"
   ]
  },
  {
   "cell_type": "code",
   "execution_count": null,
   "id": "e05ce59a",
   "metadata": {},
   "outputs": [],
   "source": [
    "# Check how many titles contain the word colic\n",
    "contain_values = df_titles[df_titles['text'].str.contains('olic')]\n",
    "len(contain_values)\n"
   ]
  },
  {
   "cell_type": "code",
   "execution_count": null,
   "id": "d0091773",
   "metadata": {},
   "outputs": [],
   "source": [
    "# Save the text column to a file\n",
    "df_titles.to_csv('data/horse_titles.csv')  "
   ]
  },
  {
   "cell_type": "markdown",
   "id": "4fc949c0",
   "metadata": {},
   "source": [
    "## Augumented Title Data"
   ]
  },
  {
   "cell_type": "code",
   "execution_count": null,
   "id": "c765462e",
   "metadata": {},
   "outputs": [],
   "source": [
    "# Prepare the text column \n",
    "df = horse_df[['AugmTitle']]"
   ]
  },
  {
   "cell_type": "code",
   "execution_count": null,
   "id": "4d1a014d",
   "metadata": {},
   "outputs": [],
   "source": [
    "# Rename the text column \n",
    "df = df.rename(columns={'AugmTitle': 'text'})\n",
    "df.head(4)"
   ]
  },
  {
   "cell_type": "code",
   "execution_count": null,
   "id": "ff148b4b",
   "metadata": {},
   "outputs": [],
   "source": [
    "# Check how many augmented titles contain the word colic\n",
    "contains_list = df[df['text'].str.contains('olic')]\n",
    "len(contains_list)"
   ]
  },
  {
   "cell_type": "code",
   "execution_count": null,
   "id": "d698cbfe",
   "metadata": {},
   "outputs": [],
   "source": [
    "# Inspect the items that do not contain the word colic\n",
    "list_nocolic = df[~df['text'].str.contains('olic')]\n",
    "list_nocolic = list_nocolic[~list_nocolic['text'].str.contains('OLIC') ]\n",
    "list_nocolic"
   ]
  },
  {
   "cell_type": "code",
   "execution_count": null,
   "id": "4a1e7bb8",
   "metadata": {},
   "outputs": [],
   "source": [
    "len(list_nocolic)"
   ]
  },
  {
   "cell_type": "code",
   "execution_count": null,
   "id": "12289841",
   "metadata": {},
   "outputs": [],
   "source": [
    "# Save the text column to a file\n",
    "df.to_csv('data/horse_augm_titles.csv')  "
   ]
  },
  {
   "cell_type": "code",
   "execution_count": null,
   "id": "8399f8e5",
   "metadata": {},
   "outputs": [],
   "source": [
    "#for c in codes:\n",
    "#    df = df.apply(lambda x: x.str.replace(c,''), regex=True, axis=1)\n"
   ]
  },
  {
   "cell_type": "code",
   "execution_count": null,
   "id": "07749b07",
   "metadata": {},
   "outputs": [],
   "source": []
  }
 ],
 "metadata": {
  "kernelspec": {
   "display_name": "Python 3 (ipykernel)",
   "language": "python",
   "name": "python3"
  },
  "language_info": {
   "codemirror_mode": {
    "name": "ipython",
    "version": 3
   },
   "file_extension": ".py",
   "mimetype": "text/x-python",
   "name": "python",
   "nbconvert_exporter": "python",
   "pygments_lexer": "ipython3",
   "version": "3.9.12"
  },
  "toc": {
   "base_numbering": 1,
   "nav_menu": {},
   "number_sections": true,
   "sideBar": true,
   "skip_h1_title": false,
   "title_cell": "Table of Contents",
   "title_sidebar": "Contents",
   "toc_cell": false,
   "toc_position": {},
   "toc_section_display": true,
   "toc_window_display": false
  }
 },
 "nbformat": 4,
 "nbformat_minor": 5
}
